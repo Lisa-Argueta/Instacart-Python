{
 "cells": [
  {
   "cell_type": "markdown",
   "id": "58f00403",
   "metadata": {},
   "source": [
    "### 4.2.5 Import libraries"
   ]
  },
  {
   "cell_type": "code",
   "execution_count": 3,
   "id": "0528f857",
   "metadata": {},
   "outputs": [],
   "source": [
    "# Import Libraries\n",
    "import pandas as pd\n",
    "import numpy as np\n",
    "import os"
   ]
  },
  {
   "cell_type": "markdown",
   "id": "13ae093e",
   "metadata": {},
   "source": [
    "### 4.2.6 Python Data Types"
   ]
  },
  {
   "cell_type": "markdown",
   "id": "1cd4428c",
   "metadata": {},
   "source": [
    "#### 4.2.7 Code 3 different ways of reaching a result of 100 by adding or subtracting numeric variables."
   ]
  },
  {
   "cell_type": "code",
   "execution_count": 6,
   "id": "4da22887",
   "metadata": {},
   "outputs": [],
   "source": [
    "a = 50"
   ]
  },
  {
   "cell_type": "code",
   "execution_count": 7,
   "id": "70cb2018",
   "metadata": {},
   "outputs": [],
   "source": [
    "b = 25"
   ]
  },
  {
   "cell_type": "code",
   "execution_count": 8,
   "id": "cc3abf85",
   "metadata": {},
   "outputs": [
    {
     "data": {
      "text/plain": [
       "100"
      ]
     },
     "execution_count": 8,
     "metadata": {},
     "output_type": "execute_result"
    }
   ],
   "source": [
    "a + a"
   ]
  },
  {
   "cell_type": "code",
   "execution_count": 9,
   "id": "b862e7db",
   "metadata": {},
   "outputs": [
    {
     "data": {
      "text/plain": [
       "100"
      ]
     },
     "execution_count": 9,
     "metadata": {},
     "output_type": "execute_result"
    }
   ],
   "source": [
    "a + b + b"
   ]
  },
  {
   "cell_type": "code",
   "execution_count": 10,
   "id": "fb585cc7",
   "metadata": {},
   "outputs": [],
   "source": [
    "c = 150"
   ]
  },
  {
   "cell_type": "code",
   "execution_count": 11,
   "id": "3fc1f0df",
   "metadata": {},
   "outputs": [
    {
     "data": {
      "text/plain": [
       "100"
      ]
     },
     "execution_count": 11,
     "metadata": {},
     "output_type": "execute_result"
    }
   ],
   "source": [
    "c - a"
   ]
  },
  {
   "cell_type": "markdown",
   "id": "ca135e04",
   "metadata": {},
   "source": [
    "#### 4.2.8 Code 2 floating-point variables and divide them by each other."
   ]
  },
  {
   "cell_type": "code",
   "execution_count": 12,
   "id": "a238f436",
   "metadata": {},
   "outputs": [],
   "source": [
    "d = 3.1415"
   ]
  },
  {
   "cell_type": "code",
   "execution_count": 13,
   "id": "0c84a1c8",
   "metadata": {},
   "outputs": [],
   "source": [
    "e = 1.102"
   ]
  },
  {
   "cell_type": "code",
   "execution_count": 14,
   "id": "cde5ec1d",
   "metadata": {},
   "outputs": [
    {
     "data": {
      "text/plain": [
       "2.8507259528130673"
      ]
     },
     "execution_count": 14,
     "metadata": {},
     "output_type": "execute_result"
    }
   ],
   "source": [
    "d / e"
   ]
  },
  {
   "cell_type": "markdown",
   "id": "497e436e",
   "metadata": {},
   "source": [
    "#### 4.2.9 Construct a short word made of separate strings."
   ]
  },
  {
   "cell_type": "code",
   "execution_count": 15,
   "id": "ed723a55",
   "metadata": {},
   "outputs": [],
   "source": [
    "f = 'rain'"
   ]
  },
  {
   "cell_type": "code",
   "execution_count": 16,
   "id": "87c9775a",
   "metadata": {},
   "outputs": [],
   "source": [
    "g = 'bow'"
   ]
  },
  {
   "cell_type": "code",
   "execution_count": 17,
   "id": "a712fa8f",
   "metadata": {},
   "outputs": [
    {
     "data": {
      "text/plain": [
       "'rainbow'"
      ]
     },
     "execution_count": 17,
     "metadata": {},
     "output_type": "execute_result"
    }
   ],
   "source": [
    "f + g"
   ]
  },
  {
   "cell_type": "markdown",
   "id": "b32c22a1",
   "metadata": {},
   "source": [
    "#### 4.2.10 Construct 2 short sentences made of separate strings."
   ]
  },
  {
   "cell_type": "code",
   "execution_count": 18,
   "id": "972ada41",
   "metadata": {},
   "outputs": [],
   "source": [
    "h = 'Everything is'"
   ]
  },
  {
   "cell_type": "code",
   "execution_count": 22,
   "id": "3a582042",
   "metadata": {},
   "outputs": [],
   "source": [
    "i = ' awesome.'"
   ]
  },
  {
   "cell_type": "code",
   "execution_count": 23,
   "id": "16e5fd10",
   "metadata": {},
   "outputs": [],
   "source": [
    "j = ' cool.'"
   ]
  },
  {
   "cell_type": "code",
   "execution_count": 24,
   "id": "ddb392a2",
   "metadata": {},
   "outputs": [
    {
     "data": {
      "text/plain": [
       "'Everything is awesome.'"
      ]
     },
     "execution_count": 24,
     "metadata": {},
     "output_type": "execute_result"
    }
   ],
   "source": [
    "h + i"
   ]
  },
  {
   "cell_type": "code",
   "execution_count": 25,
   "id": "ee8ea00c",
   "metadata": {},
   "outputs": [
    {
     "data": {
      "text/plain": [
       "'Everything is cool.'"
      ]
     },
     "execution_count": 25,
     "metadata": {},
     "output_type": "execute_result"
    }
   ],
   "source": [
    "h + j"
   ]
  },
  {
   "cell_type": "code",
   "execution_count": null,
   "id": "8cfc1eaa",
   "metadata": {},
   "outputs": [],
   "source": []
  }
 ],
 "metadata": {
  "kernelspec": {
   "display_name": "Python 3 (ipykernel)",
   "language": "python",
   "name": "python3"
  },
  "language_info": {
   "codemirror_mode": {
    "name": "ipython",
    "version": 3
   },
   "file_extension": ".py",
   "mimetype": "text/x-python",
   "name": "python",
   "nbconvert_exporter": "python",
   "pygments_lexer": "ipython3",
   "version": "3.9.16"
  }
 },
 "nbformat": 4,
 "nbformat_minor": 5
}
